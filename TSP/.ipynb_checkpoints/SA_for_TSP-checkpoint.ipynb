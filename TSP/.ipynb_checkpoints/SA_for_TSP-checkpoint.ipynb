{
 "cells": [
  {
   "cell_type": "markdown",
   "metadata": {},
   "source": [
    "## 1.資料前處理"
   ]
  },
  {
   "cell_type": "code",
   "execution_count": 1,
   "metadata": {
    "scrolled": true
   },
   "outputs": [
    {
     "name": "stdout",
     "output_type": "stream",
     "text": [
      "[[6734, 1453], [2233, 10], [5530, 1424], [401, 841], [3082, 1644], [7608, 4458], [7573, 3716], [7265, 1268], [6898, 1885], [1112, 2049], [5468, 2606], [5989, 2873], [4706, 2674], [4612, 2035], [6347, 2683], [6107, 669], [7611, 5184], [7462, 3590], [7732, 4723], [5900, 3561], [4483, 3369], [6101, 1110], [5199, 2182], [1633, 2809], [4307, 2322], [675, 1006], [7555, 4819], [7541, 3981], [3177, 756], [7352, 4506], [7545, 2801], [3245, 3305], [6426, 3173], [4608, 1198], [23, 2216], [7248, 3779], [7762, 4595], [7392, 2244], [3484, 2829], [6271, 2135], [4985, 140], [1916, 1569], [7280, 4899], [7509, 3239], [10, 2676], [6807, 2993], [5185, 3258], [3023, 1942]]\n"
     ]
    }
   ],
   "source": [
    "import numpy as np \n",
    "A = []\n",
    "f = open('att48_xy.txt')        #開啟檔案`,這邊以att48為範例，資料格式為每個城市的經緯度座標，eg 1 120 50\n",
    "lines = f.readlines()           #把全部資料檔案讀到一個列表lines中\n",
    "ind = 0\n",
    "for line in lines:              #把lines中的資料逐行讀取出來\n",
    "    list = line.strip('\\n').split(' ')   #處理逐行資料：strip表示把頭尾的'\\n'去掉，split表示以空格來分割行資料，然後把處理後的行資料返回到list列表中\n",
    "    list = [i for i in list if(len(str(i))!=0)]\n",
    "    A.append([int(list[0]), int(list[1])])          #把處理後的資料放到方陣A中。\n",
    "    ind += 1\n",
    "print(A)"
   ]
  },
  {
   "cell_type": "code",
   "execution_count": 2,
   "metadata": {},
   "outputs": [
    {
     "data": {
      "text/plain": [
       "[6734, 1453]"
      ]
     },
     "execution_count": 2,
     "metadata": {},
     "output_type": "execute_result"
    }
   ],
   "source": [
    "A[0]"
   ]
  },
  {
   "cell_type": "markdown",
   "metadata": {},
   "source": [
    "## 2.Simulated Annealing algorithm 主程式"
   ]
  },
  {
   "cell_type": "code",
   "execution_count": 3,
   "metadata": {},
   "outputs": [],
   "source": [
    "import numpy as np\n",
    "import random\n",
    "import matplotlib.pyplot as plt\n",
    "import os\n",
    "import shutil\n",
    "import time\n",
    "\n",
    "#產生所需之資料格式\n",
    "def create_data(N):\n",
    "    calDistance = lambda x, y: np.sqrt((x[0] - y[0]) ** 2 + (x[1] - y[1]) ** 2) #calculate distance between 2 locations\n",
    "    points = A                                                                  #our dataset [x_cord, y_cord]\n",
    "    Mat = np.zeros((N, N))                                                      #initialize\n",
    "    for i in range(N):\n",
    "        for j in range(i + 1, N):\n",
    "            dv = calDistance(points[i], points[j])\n",
    "            Mat[i][j], Mat[j][i] = dv, dv\n",
    "    return points, Mat                                                          #create a matrix with dist b/n 2 locs\n",
    "\n",
    "#計算可行解的值\n",
    "def calpathValue(path):\n",
    "    global Mat\n",
    "    temp = Mat[0][path[0]]                                                      #choose one path and accumulate dists\n",
    "    for i in range(len(path) - 1):                                              \n",
    "        temp += Mat[path[i]][path[i + 1]]                                       #accumulation\n",
    "    temp += Mat[path[-1]][0]                                                    #dist from end to init\n",
    "    return temp\n",
    "\n",
    "#產生初始解\n",
    "def initial():\n",
    "    global N\n",
    "    init = np.arange(1, N)\n",
    "    random.shuffle(init)                                                        #打亂順序產生初始解\n",
    "    packValue = calpathValue(init)                                              #計算解的品質\n",
    "    return init, packValue\n",
    "\n",
    "#劃出TSP路線圖\n",
    "def draw(path, pv):\n",
    "    global points, N\n",
    "    plt.cla()                     #clear axis\n",
    "    plt.title('best value of Att48 = %.4f' % pv)\n",
    "    xs = [p[0] for p in points]\n",
    "    ys = [p[1] for p in points]\n",
    "    plt.scatter(xs, ys, color='b')\n",
    "    xs = np.array(xs)\n",
    "    ys = np.array(ys)\n",
    "    plt.plot(xs[[0, path[0]]], ys[[0, path[0]]], color='r')\n",
    "    for i in range(N - 2):\n",
    "        plt.plot(xs[[path[i], path[i + 1]]], ys[[path[i], path[i + 1]]], color='r')\n",
    "    plt.plot(xs[[path[N - 2], 0]], ys[[path[N - 2], 0]], color='r')\n",
    "    plt.scatter(xs[0], ys[0], color='k', linewidth=10)\n",
    "    for i, p in enumerate(points):\n",
    "        plt.text(*p, '%d' % i)\n",
    "\n",
    "\n"
   ]
  },
  {
   "cell_type": "markdown",
   "metadata": {},
   "source": [
    "## 3.模擬過程"
   ]
  },
  {
   "cell_type": "code",
   "execution_count": 4,
   "metadata": {},
   "outputs": [
    {
     "name": "stdout",
     "output_type": "stream",
     "text": [
      "CPU Time 34.05773901939392\n",
      "SA near-optimal solution length: 37256.84324002765\n",
      "Best route map: 0-->39-->45-->27-->5-->36-->18-->26-->16-->42-->29-->19-->46-->20-->12-->24-->13-->28-->1-->25-->3-->34-->44-->9-->23-->41-->4-->47-->31-->38-->33-->40-->15-->21-->2-->22-->10-->11-->14-->32-->35-->6-->17-->43-->30-->37-->8-->7-->"
     ]
    },
    {
     "data": {
      "image/png": "[encoded data removed]",
      "text/plain": [
       "<Figure size 432x288 with 1 Axes>"
      ]
     },
     "metadata": {
      "needs_background": "light"
     },
     "output_type": "display_data"
    }
   ],
   "source": [
    "if __name__ == '__main__':\n",
    "    '''\n",
    "    優化方向\n",
    "    1. 降溫方式 T *= alpha  -->>  T / (1 + beta * T)\n",
    "    2. 鄰近解的搜尋方式 \n",
    "    3. prob of acceptance np.exp((value - tempValue) / (K * T))  -->>  np.exp((value - tempValue) / (value * T))\n",
    "    4. 設計[起始溫度,最低溫度] = [0,1] 在該區間內持續迭代，當低於最低溫後，跳出迴圈，rest T & limitedT\n",
    "    '''\n",
    "    N = 48                        # 城市數量\n",
    "    points, Mat = create_data(N)  # 餵入資料產生對應之格式\n",
    "    T = 2000                      # 起始溫度\n",
    "    alpha = 0.975                 # T_{k+1} = alpha * T_k方式更新溫度\n",
    "    limitedT = 1.                 # 最小值的T\n",
    "    iterTime = 2000               # 每個溫度下迭代的次數\n",
    "    K = 0.99                       # 係數K\n",
    "    p = 0                         # 接受機率\n",
    "    \n",
    "    path, value = initial()\n",
    "    tempPath, tempValue = [], 0\n",
    "    global_Best = value           # 畫圖\n",
    "    start_time = time.time()\n",
    "    while T > limitedT:\n",
    "        #print(T)\n",
    "        for i in range(iterTime):\n",
    "            tempPath = path.copy()\n",
    "            tx = random.randint(0, N - 2)\n",
    "            ty = random.randint(0, N - 2)\n",
    "            if tx != ty:\n",
    "                tempPath[tx], tempPath[ty] = tempPath[ty], tempPath[tx]  #隨機找兩個插入點，若不相同則交換位置\n",
    "                tempValue = calpathValue(tempPath)\n",
    "                if tempValue <= value:                                   #新解優於當下最佳解，則更新最佳解\n",
    "                    path = tempPath.copy()\n",
    "                    value = tempValue.copy()\n",
    "                else:\n",
    "                    p = np.exp((value - tempValue) / (K * T))            #新解未優於最佳解，計算接受機率\n",
    "                    if random.random() < p:\n",
    "                        path = tempPath.copy()\n",
    "                        value = tempValue.copy()\n",
    "        if value < global_Best:\n",
    "            global_Best = value\n",
    "            draw(path, value)\n",
    "        T *= alpha                                                       #溫度更新方式\n",
    "    exec_time =  time.time() - start_time\n",
    "    print('CPU Time', exec_time)\n",
    "    print('SA near-optimal solution length:', value)\n",
    "    print('Best route map:', 0, end='-->')\n",
    "    for i in path:\n",
    "        print(i, end='-->')\n"
   ]
  },
  {
   "cell_type": "code",
   "execution_count": null,
   "metadata": {},
   "outputs": [],
   "source": [
    "if __name__ == '__main__':\n",
    "    '''\n",
    "    優化方向\n",
    "    1. 降溫方式 T *= alpha  -->>  T / (1 + beta * T)\n",
    "    2. 鄰近解的搜尋方式 \n",
    "    3. prob of acceptance np.exp((value - tempValue) / (K * T))  -->>  np.exp((value - tempValue) / (value * T))\n",
    "    4. 設計[起始溫度,最低溫度] = [0,1] 在該區間內持續迭代，當低於最低溫後，跳出迴圈，rest T & limitedT\n",
    "    '''\n",
    "    N = 48                        # 城市數量\n",
    "    points, Mat = create_data(N)  # 餵入資料產生對應之格式\n",
    "    T = 1                      # 起始溫度\n",
    "    beta = 0.1                 # T_{k+1} = alpha * T_k方式更新溫度\n",
    "    limitedT = 0.01                 # 最小值的T\n",
    "    iterTime = 1000               # 每個溫度下迭代的次數\n",
    "    K = 0.8                       # 係數K\n",
    "    p = 0                         # 接受機率\n",
    "    \n",
    "    tempPath, tempValue = [], 0\n",
    "    path, value = initial()\n",
    "    \n",
    "    global_Best = value           # 畫圖\n",
    "    start_time = time.time()\n",
    "    for i in range(iterTime):\n",
    "        #print(T)\n",
    "        \n",
    "        while T > limitedT:\n",
    "            tempPath = path.copy()\n",
    "            tx = random.randint(0, N - 2)\n",
    "            ty = random.randint(0, N - 2)\n",
    "            if tx != ty:\n",
    "                tempPath[tx], tempPath[ty] = tempPath[ty], tempPath[tx]  #隨機找兩個插入點，若不相同則交換位置\n",
    "                tempValue = calpathValue(tempPath)\n",
    "                if tempValue <= value:                                   #新解優於當下最佳解，則更新最佳解\n",
    "                    path = tempPath.copy()\n",
    "                    value = tempValue.copy()\n",
    "                else:\n",
    "                    p = np.exp((value - tempValue) / (value * T))            #新解未優於最佳解，計算接受機率\n",
    "                    if random.random() < p:\n",
    "                        path = tempPath.copy()\n",
    "                        value = tempValue.copy()\n",
    "                    T = T / (1 + beta * T) \n",
    "        if value < global_Best:\n",
    "            global_Best = value\n",
    "            draw(path, value)\n",
    "        T = 1\n",
    "\n",
    "    exec_time =  time.time() - start_time\n",
    "    print('CPU Time', exec_time)\n",
    "    print('SA near-optimal solution length:', value)\n",
    "    print('Best route map:', 0, end='-->')\n",
    "    for i in path:\n",
    "        print(i, end='-->')\n"
   ]
  },
  {
   "cell_type": "code",
   "execution_count": null,
   "metadata": {},
   "outputs": [],
   "source": []
  }
 ],
 "metadata": {
  "kernelspec": {
   "display_name": "Python 3",
   "language": "python",
   "name": "python3"
  },
  "language_info": {
   "codemirror_mode": {
    "name": "ipython",
    "version": 3
   },
   "file_extension": ".py",
   "mimetype": "text/x-python",
   "name": "python",
   "nbconvert_exporter": "python",
   "pygments_lexer": "ipython3",
   "version": "3.7.1"
  }
 },
 "nbformat": 4,
 "nbformat_minor": 2
}
